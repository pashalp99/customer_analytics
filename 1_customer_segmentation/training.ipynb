{
 "cells": [
  {
   "cell_type": "code",
   "execution_count": 4,
   "id": "15318af7",
   "metadata": {},
   "outputs": [],
   "source": [
    "import pandas as pd\n",
    "from sqlalchemy import create_engine"
   ]
  },
  {
   "cell_type": "markdown",
   "id": "21d3045a",
   "metadata": {},
   "source": [
    "###  *Set up sqllite database*"
   ]
  },
  {
   "cell_type": "code",
   "execution_count": 6,
   "id": "a3a08e43",
   "metadata": {},
   "outputs": [],
   "source": [
    "df = pd.read_csv('data.csv', encoding= 'unicode_escape')\n",
    "df['InvoiceDate'] = pd.to_datetime(df['InvoiceDate'])\n",
    "\n",
    "disk_engine = create_engine('sqlite:///transaction_data.db')\n",
    "df.to_sql('transactions', disk_engine, if_exists='replace')"
   ]
  },
  {
   "cell_type": "markdown",
   "id": "1b030c9b",
   "metadata": {},
   "source": [
    "### *Customers Geography Analysis*"
   ]
  },
  {
   "cell_type": "code",
   "execution_count": 8,
   "id": "0ba44258",
   "metadata": {},
   "outputs": [
    {
     "data": {
      "text/html": [
       "<div>\n",
       "<style scoped>\n",
       "    .dataframe tbody tr th:only-of-type {\n",
       "        vertical-align: middle;\n",
       "    }\n",
       "\n",
       "    .dataframe tbody tr th {\n",
       "        vertical-align: top;\n",
       "    }\n",
       "\n",
       "    .dataframe thead th {\n",
       "        text-align: right;\n",
       "    }\n",
       "</style>\n",
       "<table border=\"1\" class=\"dataframe\">\n",
       "  <thead>\n",
       "    <tr style=\"text-align: right;\">\n",
       "      <th></th>\n",
       "      <th>count(*)</th>\n",
       "    </tr>\n",
       "  </thead>\n",
       "  <tbody>\n",
       "    <tr>\n",
       "      <th>0</th>\n",
       "      <td>541909</td>\n",
       "    </tr>\n",
       "  </tbody>\n",
       "</table>\n",
       "</div>"
      ],
      "text/plain": [
       "   count(*)\n",
       "0    541909"
      ]
     },
     "execution_count": 8,
     "metadata": {},
     "output_type": "execute_result"
    }
   ],
   "source": [
    "pd.read_sql_query('''\n",
    "select count(*)\n",
    "from transactions\n",
    "''',disk_engine)"
   ]
  },
  {
   "cell_type": "markdown",
   "id": "3fbe292c",
   "metadata": {},
   "source": [
    "### *Customer Value Analysis*"
   ]
  },
  {
   "cell_type": "code",
   "execution_count": null,
   "id": "f91ae517",
   "metadata": {},
   "outputs": [],
   "source": [
    "pd.read_sql_query('''\n",
    "\n",
    "''',disk_engine)"
   ]
  }
 ],
 "metadata": {
  "kernelspec": {
   "display_name": "Python 3 (ipykernel)",
   "language": "python",
   "name": "python3"
  },
  "language_info": {
   "codemirror_mode": {
    "name": "ipython",
    "version": 3
   },
   "file_extension": ".py",
   "mimetype": "text/x-python",
   "name": "python",
   "nbconvert_exporter": "python",
   "pygments_lexer": "ipython3",
   "version": "3.9.12"
  }
 },
 "nbformat": 4,
 "nbformat_minor": 5
}
