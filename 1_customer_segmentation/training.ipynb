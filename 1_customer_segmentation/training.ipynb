{
 "cells": [
  {
   "cell_type": "code",
   "execution_count": 1,
   "id": "15318af7",
   "metadata": {},
   "outputs": [],
   "source": [
    "import pandas as pd\n",
    "from sqlalchemy import create_engine"
   ]
  },
  {
   "cell_type": "markdown",
   "id": "21d3045a",
   "metadata": {},
   "source": [
    "###  *Set up sqllite database*"
   ]
  },
  {
   "cell_type": "code",
   "execution_count": 2,
   "id": "a3a08e43",
   "metadata": {},
   "outputs": [],
   "source": [
    "df = pd.read_csv('data.csv', encoding= 'unicode_escape')\n",
    "df['InvoiceDate'] = pd.to_datetime(df['InvoiceDate'])\n",
    "\n",
    "disk_engine = create_engine('sqlite:///transaction_data.db')\n",
    "df.to_sql('transactions', disk_engine, if_exists='replace')"
   ]
  },
  {
   "cell_type": "markdown",
   "id": "1b030c9b",
   "metadata": {},
   "source": [
    "### *Customers Geography Analysis*"
   ]
  },
  {
   "cell_type": "code",
   "execution_count": null,
   "id": "0ba44258",
   "metadata": {},
   "outputs": [],
   "source": [
    "pd.read_sql_query('''\n",
    "\n",
    "''',disk_engine)"
   ]
  },
  {
   "cell_type": "markdown",
   "id": "3fbe292c",
   "metadata": {},
   "source": [
    "### *Customer Value Analysis*"
   ]
  },
  {
   "cell_type": "code",
   "execution_count": null,
   "id": "f91ae517",
   "metadata": {},
   "outputs": [],
   "source": [
    "pd.read_sql_query('''\n",
    "\n",
    "''',disk_engine)"
   ]
  }
 ],
 "metadata": {
  "kernelspec": {
   "display_name": "Python 3 (ipykernel)",
   "language": "python",
   "name": "python3"
  },
  "language_info": {
   "codemirror_mode": {
    "name": "ipython",
    "version": 3
   },
   "file_extension": ".py",
   "mimetype": "text/x-python",
   "name": "python",
   "nbconvert_exporter": "python",
   "pygments_lexer": "ipython3",
   "version": "3.9.12"
  }
 },
 "nbformat": 4,
 "nbformat_minor": 5
}
