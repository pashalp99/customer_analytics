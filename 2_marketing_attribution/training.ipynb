{
 "cells": [
  {
   "cell_type": "code",
   "execution_count": null,
   "id": "2d9ad127",
   "metadata": {},
   "outputs": [],
   "source": [
    "import pandas as pd\n",
    "from sqlalchemy import create_engine"
   ]
  },
  {
   "cell_type": "code",
   "execution_count": null,
   "id": "746f7746",
   "metadata": {},
   "outputs": [],
   "source": [
    "df = pd.read_csv('data.csv', encoding= 'unicode_escape')\n",
    "df['event_time'] = pd.to_datetime(df['event_time'])\n",
    "df['user_id'] = df['user_id'].astype(str)\n",
    "disk_engine = create_engine('sqlite:///marketing_attribution_data.db')"
   ]
  },
  {
   "cell_type": "code",
   "execution_count": null,
   "id": "b7d201a0",
   "metadata": {},
   "outputs": [],
   "source": [
    "df[df['event_name']=='session_start'].to_sql('session_start', disk_engine, if_exists='replace',index=False)\n",
    "df[df['event_name']=='purchase'][['event_time',\n",
    "                                  'session_id',\n",
    "                                  'event_name',\n",
    "                                  'user_id',\n",
    "                                  'transaction_id',\n",
    "                                  'total_item_quantity',\n",
    "                                  'purchase_revenue_in_usd']]\\\n",
    "                        .to_sql('purchase', disk_engine, if_exists='replace',index=False)\n"
   ]
  },
  {
   "cell_type": "markdown",
   "id": "4cf3767a",
   "metadata": {},
   "source": [
    "---\n",
    "#### Sample Data"
   ]
  },
  {
   "cell_type": "code",
   "execution_count": null,
   "id": "ab4e92f3",
   "metadata": {},
   "outputs": [],
   "source": [
    "#session data\n",
    "pd.read_sql_query('''\n",
    "select *\n",
    "from session_start\n",
    "limit 5\n",
    "''',disk_engine)"
   ]
  },
  {
   "cell_type": "markdown",
   "id": "f2f356f1",
   "metadata": {},
   "source": [
    "---\n",
    "#### Transacting User Journey "
   ]
  },
  {
   "cell_type": "code",
   "execution_count": null,
   "id": "6d543baa",
   "metadata": {},
   "outputs": [],
   "source": [
    "pd.read_sql_query('''\n",
    "select *\n",
    "from session_start\n",
    "where user_id = '4670841.6660469435'\n",
    "limit 5\n",
    "''',disk_engine)"
   ]
  },
  {
   "cell_type": "code",
   "execution_count": null,
   "id": "b42aaae8",
   "metadata": {},
   "outputs": [],
   "source": [
    "pd.read_sql_query('''\n",
    "select *\n",
    "from purchase\n",
    "where user_id = '4670841.6660469435'\n",
    "limit 5\n",
    "''',disk_engine)"
   ]
  },
  {
   "cell_type": "markdown",
   "id": "3e4b0a29",
   "metadata": {},
   "source": [
    "---\n",
    "#### Non-Transacting User Journey "
   ]
  },
  {
   "cell_type": "code",
   "execution_count": null,
   "id": "5d3634aa",
   "metadata": {},
   "outputs": [],
   "source": [
    "pd.read_sql_query('''\n",
    "select *\n",
    "from session_start\n",
    "where user_id = '1019199.3353128468'\n",
    "limit 100\n",
    "''',disk_engine)"
   ]
  },
  {
   "cell_type": "code",
   "execution_count": null,
   "id": "65846642",
   "metadata": {},
   "outputs": [],
   "source": [
    "pd.read_sql_query('''\n",
    "select *\n",
    "from purchase\n",
    "where user_id = '1019199.3353128468'\n",
    "''',disk_engine)"
   ]
  },
  {
   "cell_type": "markdown",
   "id": "7c20cda2",
   "metadata": {},
   "source": [
    "---\n",
    "#### Defining Channel based on utm_parameters "
   ]
  },
  {
   "cell_type": "code",
   "execution_count": null,
   "id": "b27de1e3",
   "metadata": {},
   "outputs": [],
   "source": [
    "pd.read_sql_query('''\n",
    "\n",
    "''',disk_engine)"
   ]
  },
  {
   "cell_type": "code",
   "execution_count": null,
   "id": "6c7ad7c4",
   "metadata": {},
   "outputs": [],
   "source": [
    "pd.read_sql_query('''\n",
    "\n",
    "''',disk_engine)"
   ]
  },
  {
   "cell_type": "code",
   "execution_count": null,
   "id": "85c48270",
   "metadata": {},
   "outputs": [],
   "source": [
    "pd.read_sql_query('''\n",
    "\n",
    "''',disk_engine)"
   ]
  },
  {
   "cell_type": "markdown",
   "id": "ed6c80bf",
   "metadata": {},
   "source": [
    "---\n",
    "#### \"Marrying\" Sales to the Marketing touch"
   ]
  },
  {
   "cell_type": "code",
   "execution_count": null,
   "id": "6ed1f3a3",
   "metadata": {},
   "outputs": [],
   "source": [
    "pd.read_sql_query('''\n",
    "\n",
    "''',disk_engine)"
   ]
  },
  {
   "cell_type": "code",
   "execution_count": null,
   "id": "0033cb6f",
   "metadata": {},
   "outputs": [],
   "source": [
    "pd.read_sql_query('''\n",
    "\n",
    "''',disk_engine)"
   ]
  },
  {
   "cell_type": "code",
   "execution_count": null,
   "id": "8132cdd6",
   "metadata": {
    "scrolled": true
   },
   "outputs": [],
   "source": [
    "pd.read_sql_query('''\n",
    "\n",
    "''',disk_engine)"
   ]
  },
  {
   "cell_type": "markdown",
   "id": "1cd56afc",
   "metadata": {},
   "source": [
    "---\n",
    "#### Attribution come to action\n",
    "first touch 7 days"
   ]
  },
  {
   "cell_type": "code",
   "execution_count": null,
   "id": "f1c3f971",
   "metadata": {},
   "outputs": [],
   "source": [
    "##FIRST TOUCH LAST 7 DAYS\n",
    "pd.read_sql_query('''\n",
    "\n",
    "''',disk_engine)"
   ]
  },
  {
   "cell_type": "code",
   "execution_count": null,
   "id": "684ab99e",
   "metadata": {},
   "outputs": [],
   "source": [
    "##FIRST TOUCH LAST 7 DAYS\n",
    "pd.read_sql_query('''\n",
    "\n",
    "''',disk_engine)"
   ]
  },
  {
   "cell_type": "code",
   "execution_count": null,
   "id": "35ca1993",
   "metadata": {},
   "outputs": [],
   "source": [
    "##Session Data\n",
    "pd.read_sql_query('''\n",
    "\n",
    "''',disk_engine)"
   ]
  },
  {
   "cell_type": "code",
   "execution_count": null,
   "id": "7aefe056",
   "metadata": {},
   "outputs": [],
   "source": [
    "##FIRST TOUCH LAST 7 DAYS\n",
    "pd.read_sql_query('''\n",
    "\n",
    "''',disk_engine)"
   ]
  },
  {
   "cell_type": "markdown",
   "id": "3de622c5",
   "metadata": {},
   "source": [
    "---\n",
    "Last touch attribution"
   ]
  },
  {
   "cell_type": "code",
   "execution_count": null,
   "id": "c8c9109d",
   "metadata": {},
   "outputs": [],
   "source": [
    "##LAST TOUCH LAST 7 DAYS\n",
    "pd.read_sql_query('''\n",
    "\n",
    "''',disk_engine)"
   ]
  },
  {
   "cell_type": "code",
   "execution_count": null,
   "id": "64e81a15",
   "metadata": {},
   "outputs": [],
   "source": [
    "##LAST TOUCH\n",
    "pd.read_sql_query('''\n",
    "\n",
    "\n",
    "''',disk_engine)"
   ]
  },
  {
   "cell_type": "markdown",
   "id": "55a6926a",
   "metadata": {},
   "source": [
    "---\n",
    "Multi touch attribution: Equal Distribution"
   ]
  },
  {
   "cell_type": "code",
   "execution_count": null,
   "id": "b70498b2",
   "metadata": {},
   "outputs": [],
   "source": [
    "##Equally Distributed\n",
    "pd.read_sql_query('''\n",
    "\n",
    "''',disk_engine)"
   ]
  },
  {
   "cell_type": "code",
   "execution_count": null,
   "id": "780b2636",
   "metadata": {},
   "outputs": [],
   "source": [
    "##LAST TOUCH LAST Equally Distributed\n",
    "pd.read_sql_query('''\n",
    "\n",
    "''',disk_engine)"
   ]
  },
  {
   "cell_type": "code",
   "execution_count": null,
   "id": "8be48179",
   "metadata": {},
   "outputs": [],
   "source": [
    "pd.read_sql_query('''\n",
    "\n",
    "''',disk_engine)"
   ]
  },
  {
   "cell_type": "markdown",
   "id": "cb4af660",
   "metadata": {},
   "source": [
    "---\n",
    "U Shape Attribution"
   ]
  },
  {
   "cell_type": "code",
   "execution_count": null,
   "id": "017c1113",
   "metadata": {},
   "outputs": [],
   "source": [
    "##U-Shape attribution\n",
    "pd.read_sql_query('''\n",
    "\n",
    "''',disk_engine)"
   ]
  },
  {
   "cell_type": "code",
   "execution_count": null,
   "id": "a40a93cd",
   "metadata": {},
   "outputs": [],
   "source": [
    "pd.read_sql_query('''\n",
    "\n",
    "''',disk_engine)"
   ]
  },
  {
   "cell_type": "code",
   "execution_count": null,
   "id": "43afb4bc",
   "metadata": {},
   "outputs": [],
   "source": []
  }
 ],
 "metadata": {
  "kernelspec": {
   "display_name": "Python 3 (ipykernel)",
   "language": "python",
   "name": "python3"
  },
  "language_info": {
   "codemirror_mode": {
    "name": "ipython",
    "version": 3
   },
   "file_extension": ".py",
   "mimetype": "text/x-python",
   "name": "python",
   "nbconvert_exporter": "python",
   "pygments_lexer": "ipython3",
   "version": "3.9.12"
  }
 },
 "nbformat": 4,
 "nbformat_minor": 5
}
